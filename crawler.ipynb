{
 "cells": [
  {
   "cell_type": "markdown",
   "metadata": {},
   "source": [
    "# 第二次社会计算实验报告\n",
    "author: [scarletborder](http://blog.scarletborders.top/)  \n",
    "## [deprecated]获取所有榜单上电影的链接\n",
    "**2023/12/22废弃，因为最火电影的逻辑改成了2023年度的最火10部电影。请用下面的新逻辑**   \n",
    "豆瓣上只有2022年的榜单，所以用这个了。  \n",
    "https://movie.douban.com/annual/2022/?fullscreen=1&source=navigation  \n",
    "单个榜单的最高电影  \n",
    "链接：\".subject-top module-top10-grid-subject-top\"  .child的第一个.subject-top-wrap的href  \n",
    "评分\".rating-card-value\"  \n",
    "其他上榜电影    \n",
    "\".subjects-rank-item\" .child() 第一个.subjects-rank-subject的href  \n",
    "评分\".subjects-rank-rating\"  "
   ]
  },
  {
   "cell_type": "code",
   "execution_count": 11,
   "metadata": {},
   "outputs": [],
   "source": [
    "urlToRate:dict = dict()"
   ]
  },
  {
   "cell_type": "code",
   "execution_count": 5,
   "metadata": {},
   "outputs": [],
   "source": [
    "from DrissionPage import WebPage\n",
    "\n",
    "page = WebPage(\"s\")\n",
    "page.get(r\"https://movie.douban.com/annual/2022/?fullscreen=1&source=navigation\")\n",
    "page.wait.ele_loaded(\".container-content\")\n",
    "page.change_mode(\"d\")\n",
    "topFilms = page.eles(\".subject-top module-top10-grid-subject-top\")\n",
    "for item in topFilms:\n",
    "    url = item.child(\".subject-top-wrap\").attr(\"href\")\n",
    "    rate = item.ele(\".rating-card-value\").text\n",
    "    urlToRate[url] = float(rate)\n",
    "\n",
    "normalFilms = page.eles(\".subjects-rank-item\")\n",
    "for item in normalFilms:\n",
    "    url = item.child(\".subjects-rank-subject\").attr(\"href\")\n",
    "    rate = item.ele(\".subjects-rank-rating\").text\n",
    "    urlToRate[url] = float(rate)"
   ]
  },
  {
   "cell_type": "markdown",
   "metadata": {},
   "source": [
    "## 获取所有榜单上电影的链接[new]\n",
    "定位到猫眼票房数据网中'https://piaofang.maoyan.com/rankings/year',选择`<li data-com=\"canTouch\" data-loaded=\"true\" class=\"\">2023年</li>`。  \n",
    "电影名称：`.first-line`，票房万元`.col2 tr`  \n",
    "新的列表为list[tuple],tuple存放(电影名称，电影票房（万元）)。  \n",
    "接着要找到豆瓣上的相应电影的资料以获取后续的信息。  \n",
    "豆瓣电影门户'https://movie.douban.com/'  \n",
    "搜索框`#inp-query`,搜索按键`tag:input@@type=submit@@value=搜索`"
   ]
  },
  {
   "cell_type": "code",
   "execution_count": 8,
   "metadata": {},
   "outputs": [],
   "source": [
    "name2Money = list()"
   ]
  },
  {
   "cell_type": "code",
   "execution_count": 9,
   "metadata": {},
   "outputs": [],
   "source": [
    "url = r\"file:///res/boxhouse.html\"\n",
    "from DrissionPage import WebPage\n",
    "\n",
    "page = WebPage(\"s\")\n",
    "page.get(url)\n",
    "cols = page.eles('css:ul[class=\"row\"][data-com]')\n",
    "for col in cols[0:10]:\n",
    "    name = col.ele(\".first-line\").text\n",
    "    money = col.ele(\".col2 tr\").text\n",
    "    name2Money.append((name, money))"
   ]
  },
  {
   "cell_type": "code",
   "execution_count": 12,
   "metadata": {},
   "outputs": [],
   "source": [
    "urlList = list()"
   ]
  },
  {
   "cell_type": "code",
   "execution_count": 13,
   "metadata": {},
   "outputs": [],
   "source": [
    "page = WebPage(\"d\")\n",
    "\n",
    "page.get(r\"https://movie.douban.com/\")\n",
    "for film in name2Money:\n",
    "    name = film[0]\n",
    "    inputspan = page.ele(\"#inp-query\")\n",
    "    inputspan.input(name)\n",
    "    page.ele(\"tag:input@@type=submit@@value=搜索\").click()\n",
    "    div = page.ele('#root')\n",
    "    myurl = div.ele('css:div>div>div>div>div:nth-of-type(1)').ele('css:a[class=\"cover-link\"]')\n",
    "    urlList.append(myurl.attr('href'))"
   ]
  },
  {
   "cell_type": "markdown",
   "metadata": {},
   "source": [
    "## 获取每个影片的数据\n",
    "获取到的信息存储在文件，并命名为豆瓣`id_(title)`\n",
    "\n",
    "### 基本信息\n",
    "\"#content\"  \n",
    "#### \"@h1\"\n",
    "片名\"tag:span@property=v:itemreviewed\"  \n",
    "年份\"tag:span@class=\"year\"\"  \n",
    "\n",
    "#### \"#info\"\n",
    "导演\"tag:span@class=attrs\" ，eles \"@rel=v:directedBy\"    \n",
    "类型eles \"tag:span@property=\"v:genre\"\"     \n",
    "\n",
    "#### \"#link-report-intra\"\n",
    "剧情简介 \"tag:span@property=\"v:summary\"\"  "
   ]
  },
  {
   "cell_type": "code",
   "execution_count": 42,
   "metadata": {},
   "outputs": [],
   "source": [
    "def query(title,url,money):\n",
    "    # 获得电影的基本信息\n",
    "    page = WebPage(\"d\")\n",
    "    page.get(url)\n",
    "    page.wait.ele_loaded(\"#content\")\n",
    "    # page.change_mode(\"s\")\n",
    "    content = page.ele(\"#content\")\n",
    "    h1 = content.ele(\"tag:h1\")\n",
    "    # title = h1.ele(r'css:span[property=\"v\\:itemreviewed\"]').text\n",
    "    year = h1.ele(r\"tag:span@class=year\").text\n",
    "\n",
    "    info = content.ele(\"#info\")\n",
    "    directors_eles = info.ele(r\"tag:span@class=attrs\").eles(\n",
    "        r'css:a[rel=\"v\\:directedBy\"]'\n",
    "    )\n",
    "    directors = list()\n",
    "    for di in directors_eles:\n",
    "        directors.append(di.text)\n",
    "\n",
    "    file_type = info.ele(r'css:span[property=\"v\\:genre\"]').text\n",
    "\n",
    "    intra = content.ele(r\"#link-report-intra\")\n",
    "    brief = intra.ele(r'css:span[property=\"v\\:summary\"]').text\n",
    "\n",
    "  \n",
    "    with open(f\"./data/{title}.md\",\"a\",encoding='utf-8') as f:\n",
    "        f.write(f\"\"\"# {title}  \n",
    "- 年份:{year}\n",
    "- 导演:{directors}\n",
    "- 类型:{file_type}\n",
    "- 票房:{money}万元 \n",
    "## 简述\n",
    "{brief}\\n\"\"\")\n",
    "\n"
   ]
  },
  {
   "cell_type": "code",
   "execution_count": 43,
   "metadata": {},
   "outputs": [
    {
     "name": "stdout",
     "output_type": "stream",
     "text": [
      "0\n",
      "1\n",
      "2\n",
      "3\n",
      "4\n",
      "5\n",
      "6\n",
      "7\n",
      "8\n",
      "9\n"
     ]
    }
   ],
   "source": [
    "for idx in range(10):\n",
    "    print(idx)\n",
    "    query(name2Money[idx][0],urlList[idx],name2Money[idx][1])"
   ]
  },
  {
   "cell_type": "markdown",
   "metadata": {},
   "source": [
    "## 情感分析\n",
    "本次实验中采用4个角度分析情感。  \n",
    "1. 好评，中评，差评个数。\n",
    "   - 较为简单的方式但是能够总体概括一部影片的口碑\n",
    "   - 长评(倍率1)：好5/4星，中3星,差2/1星\n",
    "   - 短评(倍率0)：防止垃圾打分的短评污染数据所以不予考虑短评。\n",
    "\n",
    "2. 最新评论中选取前`Cfg.ReviewCnt`个评论进行语义分析。\n",
    "   - 由于用户偏好，热门评论可能更集中于某影片的显著优势评分的类上,采用最新评论的方式可能可以更客观地反应电影的总体评价。\n",
    "\n",
    "\n",
    "## 粉丝属性\n",
    "用户地理信息，网龄，观影数量。  \n",
    "> 获取的信息均是通过情感分析获得的评论的用户的个人主页获取。  \n",
    "> IP属地，注册日期，看过的电影数量。"
   ]
  },
  {
   "cell_type": "code",
   "execution_count": 23,
   "metadata": {},
   "outputs": [],
   "source": [
    "for title,rate in name2Money:\n",
    "    with open(f\"./data/{title}.md\", \"a\",encoding='utf-8') as f:\n",
    "        f.write(\n",
    "            f\"## 评价比率\\n\"\n",
    "        )"
   ]
  },
  {
   "cell_type": "code",
   "execution_count": 45,
   "metadata": {},
   "outputs": [
    {
     "name": "stdout",
     "output_type": "stream",
     "text": [
      "https://movie.douban.com/subject/25845392/reviews\n",
      "https://movie.douban.com/subject/26363254/reviews\n",
      "https://movie.douban.com/subject/34841067/reviews\n",
      "https://movie.douban.com/subject/26794435/reviews\n",
      "https://movie.douban.com/subject/35267208/reviews\n",
      "https://movie.douban.com/subject/35766491/reviews\n",
      "https://movie.douban.com/subject/27619748/reviews\n",
      "https://movie.douban.com/subject/26100958/reviews\n",
      "https://movie.douban.com/subject/35613853/reviews\n",
      "https://movie.douban.com/subject/35267208/reviews\n"
     ]
    }
   ],
   "source": [
    "# 1. 各分类长评个数\n",
    "def extractNum(s):\n",
    "    s = s.split(\"(\")[-1]\n",
    "    s = s.split(\")\")[0]\n",
    "    return int(s)\n",
    "\n",
    "\n",
    "def Method1(url, title):\n",
    "    LongReviewPage = f\"{url}reviews\"\n",
    "    print(LongReviewPage)\n",
    "    page = WebPage(\"d\")\n",
    "    page.get(LongReviewPage)\n",
    "    page.wait.ele_loaded(r\"css:ul[class='droplist']\")\n",
    "    dropdown = page.ele(r\"css:ul[class='droplist']\")\n",
    "    # page.change_mode(\"s\")\n",
    "\n",
    "    rat5Num = dropdown.ele(r'css:a[href=\"\\?rating\\=5\"]').text\n",
    "    rat5Num = extractNum(rat5Num)\n",
    "    rat4Num = dropdown.ele(r'css:a[href=\"\\?rating\\=4\"]').text\n",
    "    rat4Num = extractNum(rat4Num)\n",
    "    rat3Num = dropdown.ele(r'css:a[href=\"\\?rating\\=3\"]').text\n",
    "    rat3Num = extractNum(rat3Num)\n",
    "    rat2Num = dropdown.ele(r'css:a[href=\"\\?rating\\=2\"]').text\n",
    "    rat2Num = extractNum(rat2Num)\n",
    "    rat1Num = dropdown.ele(r'css:a[href=\"\\?rating\\=1\"]').text\n",
    "    rat1Num = extractNum(rat1Num)\n",
    "\n",
    "    sum = rat5Num + rat4Num + rat3Num + rat2Num + rat1Num\n",
    "    with open(f\"./data/{title}.md\", \"a\", encoding=\"utf-8\") as f:\n",
    "        good = \"%.2f%%\" % ((rat5Num+rat4Num)/sum * 100)\n",
    "        med = \"%.2f%%\" % ((rat3Num)/sum * 100)\n",
    "        bad = \"%.2f%%\" % ((rat2Num+rat1Num)/sum * 100)\n",
    "        f.write(\n",
    "            f\"### Method1(好评，中评，差评个数)\\n1. 好评:{good}\\n2. 中评:{med}\\n3. 差评:{bad}\\n\"\n",
    "        )\n",
    "\n",
    "\n",
    "for idx in range(10):\n",
    "    Method1(urlList[idx], name2Money[idx][0])"
   ]
  },
  {
   "cell_type": "markdown",
   "metadata": {},
   "source": [
    "### 获得评论信息\n",
    "在上述过程中给每个电影创建了文本文件，并在其中存储了基本信息。  \n",
    "为了得到语义信息，接下来每个影片网页中找到评论区"
   ]
  },
  {
   "cell_type": "markdown",
   "metadata": {},
   "source": [
    "### 语义情感分析模块\n",
    "[参考](https://blog.csdn.net/qq_39187675/article/details/85100560)  \n",
    "[参考2](https://blog.csdn.net/LSGO_MYP/article/details/116949249)  \n",
    "由于jupyter限制，爬取评论得到粉丝属性，并计算情感分数的部分请看`revAndanal.py`  "
   ]
  },
  {
   "cell_type": "code",
   "execution_count": 2,
   "metadata": {},
   "outputs": [],
   "source": [
    "import pickle\n",
    "\n",
    "\n",
    "class fileobj:\n",
    "    def __init__(self, dd, ii, ff, ss) -> None:\n",
    "        self.dd = dd  # 豆瓣账号创建日期列表的列表\n",
    "        self.ii = ii  # 属地列表的列表\n",
    "        self.ff = ff  # 观影次数列表的列表\n",
    "        self.ss = ss  # 电影情感得分列表的列表\n",
    "\n",
    "\n",
    "with open(\"./data/mydata.plk\", \"rb\") as f:\n",
    "    obj: fileobj = pickle.load(f)"
   ]
  },
  {
   "cell_type": "code",
   "execution_count": 47,
   "metadata": {},
   "outputs": [],
   "source": [
    "# 通过方法2得到评价比率\n",
    "## 由于汉语本身倾向的好评性\n",
    "## 这里规定[-inf, 0]为差评,[0,10]为中评,[10,+inf]为好评\n",
    "for idx in range(10):\n",
    "    title = name2Money[idx][0]\n",
    "    good = 0\n",
    "    med = 0 \n",
    "    bad = 0\n",
    "    for score in obj.ss[idx]:\n",
    "        if score < 0.0:\n",
    "            bad += 1\n",
    "        elif 0.0 <= score < 10.0:\n",
    "            med += 1\n",
    "        elif score >= 10.0:\n",
    "            good += 1\n",
    "    sum = good + med + bad\n",
    "    good = \"%.2f%%\" % ((good)/sum * 100)\n",
    "    med = \"%.2f%%\" % ((med)/sum * 100)\n",
    "    bad = \"%.2f%%\" % ((bad)/sum * 100)\n",
    "    with open(f\"./data/{title}.md\", \"a\", encoding=\"utf-8\") as f:\n",
    "        f.write(f\"\"\"### Method2(最新评论的情感分析)\n",
    "1. 好评:{good }\n",
    "2. 中评:{med }\n",
    "3. 差评:{bad }\n",
    "\"\"\")\n"
   ]
  },
  {
   "cell_type": "markdown",
   "metadata": {},
   "source": [
    "## 统计分析粉丝属性"
   ]
  },
  {
   "cell_type": "code",
   "execution_count": 27,
   "metadata": {},
   "outputs": [],
   "source": [
    "for title, _ in name2Money:\n",
    "    with open(f\"./data/{title}.md\", \"a\", encoding=\"utf-8\") as f:\n",
    "        f.write(f\"## 粉丝属性\\n\")"
   ]
  },
  {
   "cell_type": "code",
   "execution_count": 48,
   "metadata": {},
   "outputs": [],
   "source": [
    "# 网龄\n",
    "from datetime import datetime, timedelta\n",
    "import numpy as np\n",
    "\n",
    "for idx in range(10):\n",
    "    title = name2Money[idx][0]\n",
    "    ageList = list()\n",
    "    for dateString in obj.dd[idx]:\n",
    "        if len(dateString) < 4:\n",
    "            continue\n",
    "        datei = datetime.strptime(dateString, r\"%Y-%m-%d\")\n",
    "        age = (datetime.now() - datei).days\n",
    "        ageList.append(int(age))\n",
    "\n",
    "    avg = np.mean(ageList)\n",
    "    avg = int(avg)\n",
    "    medium = np.median(ageList)\n",
    "    medium = int(medium)\n",
    "    counts = np.bincount(ageList)\n",
    "    #返回众数\n",
    "    bigpart = np.argmax(counts)\n",
    "    bigpart = int(bigpart)\n",
    "\n",
    "    with open(f\"./data/{title}.md\", \"a\", encoding=\"utf-8\") as f:\n",
    "        f.write(\n",
    "            f\"\"\"### 网龄分析\n",
    "- 平均数{avg} days\n",
    "- 中位数{medium} days\n",
    "- 众数{bigpart} days\n",
    "\"\"\")"
   ]
  },
  {
   "cell_type": "code",
   "execution_count": 49,
   "metadata": {},
   "outputs": [],
   "source": [
    "# 观众ip属地\n",
    "\n",
    "for idx in range(10):\n",
    "    title = name2Money[idx][0]\n",
    "    addrDict = dict()\n",
    "    for addr in obj.ii[idx]:\n",
    "        if addr == \"\" or addr == \" \":\n",
    "            continue\n",
    "        item = addrDict.get(addr, 0)\n",
    "        addrDict[addr] = item + 1\n",
    "    que = sorted(addrDict.items(), key=lambda x: x[1], reverse=True)\n",
    "    lan = [_[1] for _ in que]\n",
    "    sum = np.sum(lan)\n",
    "    with open(f\"./data/{title}.md\", \"a\", encoding=\"utf-8\") as f:\n",
    "        f.write(\"### IP属地分析\\n\")\n",
    "        lineCnt = 1\n",
    "        for item in que:\n",
    "            rate = item[1] / sum\n",
    "            rate = \"%.2f%%\" % (rate * 100)\n",
    "            f.write(f\"{lineCnt}. {item[0]} {rate}\\n\")\n",
    "            lineCnt += 1"
   ]
  },
  {
   "cell_type": "code",
   "execution_count": 50,
   "metadata": {},
   "outputs": [],
   "source": [
    "# 观影数量\n",
    "import numpy as np\n",
    "\n",
    "for idx in range(10):\n",
    "    title = name2Money[idx][0]\n",
    "    filmNumList = list()\n",
    "    for watchnum in obj.ff[idx]:\n",
    "        if watchnum == -1 or watchnum == \"\" or watchnum == \"-1\":\n",
    "            continue\n",
    "        watchnum: str\n",
    "        watchnum = watchnum.strip(\")\")\n",
    "        watchnum = watchnum.strip(\"(\")\n",
    "        watchnum = watchnum.strip(\"（\")\n",
    "        watchnum = watchnum.strip(\"）\")\n",
    "        watchnum = watchnum.strip(\"看过\")\n",
    "        watchnum = watchnum.strip(\"部\")\n",
    "        filmNumList.append(int(watchnum))\n",
    "\n",
    "    avg = np.mean(filmNumList)\n",
    "    avg = int(avg)\n",
    "    medium = np.median(filmNumList)\n",
    "    m = int(medium)\n",
    "    counts = np.bincount(filmNumList)\n",
    "    # 返回众数\n",
    "    bigpart = np.argmax(counts)\n",
    "    bigpart = int(bigpart)\n",
    "\n",
    "    with open(f\"./data/{title}.md\", \"a\", encoding=\"utf-8\") as f:\n",
    "        f.write(\n",
    "            f\"\"\"### 观影数量分析\n",
    "- 平均数{avg} 部\n",
    "- 中位数{medium} 部\n",
    "- 众数{bigpart} 部\n",
    "\"\"\")"
   ]
  }
 ],
 "metadata": {
  "kernelspec": {
   "display_name": "Python 3",
   "language": "python",
   "name": "python3"
  },
  "language_info": {
   "codemirror_mode": {
    "name": "ipython",
    "version": 3
   },
   "file_extension": ".py",
   "mimetype": "text/x-python",
   "name": "python",
   "nbconvert_exporter": "python",
   "pygments_lexer": "ipython3",
   "version": "3.11.6"
  }
 },
 "nbformat": 4,
 "nbformat_minor": 2
}
